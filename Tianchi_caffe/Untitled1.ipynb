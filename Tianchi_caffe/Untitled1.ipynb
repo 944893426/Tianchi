{
 "cells": [
  {
   "cell_type": "code",
   "execution_count": 9,
   "metadata": {},
   "outputs": [],
   "source": [
    "#梯度检查\n",
    "import numpy as np\n",
    "\n",
    "def dice(x,y):\n",
    "    assert len(x.shape)==len(y.shape)==2\n",
    "    up=x*y\n",
    "    andN=np.sum(up,axis=1)\n",
    "    down=x+y\n",
    "    orU=np.sum(down,axis=1)\n",
    "    dice=2*andN/orU\n",
    "    loss=1-dice\n",
    "    return np.mean(loss)\n",
    "def dice_prime(x,y):\n",
    "    up=x*y\n",
    "    down=x+y\n",
    "    N=x.shape[0]\n",
    "    x_gra=-2*(y*down-up)/(down**2)/N\n",
    "    y_gra=-2*(x*down-up)/(down**2)/N\n",
    "    return x_gra,y_gra\n",
    "def check_gradient(f, x0,y0,epsilon):\n",
    "    x_gra=(f(x0+epsilon,y0) - f(x0-epsilon,y0))/2/epsilon\n",
    "    y_gra=(f(x0,y0+epsilon) - f(x0,y0-epsilon))/2/epsilon\n",
    "    return x_gra,y_gra\n",
    "\n"
   ]
  },
  {
   "cell_type": "code",
   "execution_count": null,
   "metadata": {},
   "outputs": [],
   "source": [
    "import torch as t\n",
    "\n",
    "def dice(x,y):\n",
    "    assert len(x.shape)==len(y.shape)==2\n",
    "    up=x*y\n",
    "    andN=np.sum(up,axis=1)\n",
    "    down=x+y\n",
    "    orU=np.sum(down,axis=1)\n",
    "    dice=2*andN/orU\n",
    "    loss=1-dice\n",
    "    return np.mean(loss)\n",
    "def dice_prime(x,y):\n",
    "    up=x*y\n",
    "    down=x+y\n",
    "    N=x.shape[0]\n",
    "    x_gra=-2*(y*down-up)/(down**2)/N\n",
    "    y_gra=-2*(x*down-up)/(down**2)/N\n",
    "    return x_gra,y_gra\n",
    "def check_gradient(f, x0,y0,epsilon):\n",
    "    x_gra=(f(x0+epsilon,y0) - f(x0-epsilon,y0))/2/epsilon\n",
    "    y_gra=(f(x0,y0+epsilon) - f(x0,y0-epsilon))/2/epsilon\n",
    "    return x_gra,y_gra"
   ]
  },
  {
   "cell_type": "code",
   "execution_count": 10,
   "metadata": {},
   "outputs": [
    {
     "name": "stdout",
     "output_type": "stream",
     "text": [
      "[[ 0.02678267  0.02678267  0.02678267]\n",
      " [-0.34360993 -0.34360993  0.02678267]\n",
      " [ 0.02678267  0.02678267 -0.34360993]] [[ 0.00244694 -0.27125917 -0.01919966]\n",
      " [ 0.01170563 -0.09570007 -0.13518792]\n",
      " [-0.04836803 -0.11194054  0.0197247 ]]\n",
      "[[ -8.2616272   -0.31801541  -0.51308702]\n",
      " [ -0.33723716 -13.62777659  -0.15376037]\n",
      " [-33.10749601  -5.53260282  -1.24775525]] [[-14.43726049  -0.55573451  -0.89662373]\n",
      " [ -0.58932466 -23.81465003  -0.26869749]\n",
      " [-57.85561756  -9.66826825  -2.18046242]]\n",
      "0.994312009809\n"
     ]
    }
   ],
   "source": [
    "from scipy.linalg.misc import norm\n",
    "a=3\n",
    "b=3\n",
    "if __name__ == '__main__':\n",
    "    x=np.random.random_sample([a,b])\n",
    "    y=np.random.randint(0,2,a*b).reshape(a,b)\n",
    "    epsilon = 1e-5*np.random.random_sample([a,b])\n",
    "    aa,bb=dice_prime(x,y)\n",
    "           \n",
    "    cc,dd=check_gradient(dice,x,y,epsilon)\n",
    "    print aa,bb\n",
    "    print cc,dd\n",
    "    print norm(aa-cc)/norm(aa+cc)\n",
    "          "
   ]
  },
  {
   "cell_type": "code",
   "execution_count": 32,
   "metadata": {},
   "outputs": [],
   "source": [
    "#梯度检查\n",
    "import numpy as np\n",
    "import torch as t\n",
    "def t_dece(tx,ty):\n",
    "    andN = 2 * (t.sum((tx * ty)))\n",
    "    orU1 = t.sum(tx )\n",
    "    orU2 = t.sum(ty )\n",
    "    dices =  andN / (orU1 + orU2 )\n",
    "    losses = 1 - dices\n",
    "    return losses.mean()\n",
    "def dice(x,y):\n",
    "    assert len(x.shape)==len(y.shape)==2\n",
    "    sums=x.sum()+y.sum()+0.000000001\n",
    "    dice=(2.*(x*y).sum()+0.000000001)/sums\n",
    "    \n",
    "    return 1-dice\n",
    "def dice_prime(x,y):\n",
    "    sums=x.sum()+y.sum()+0.000000001\n",
    "    dice=(2.*(x*y).sum()+0.000000001)/sums\n",
    "    x_gra=(-2.*y+dice)/sums\n",
    "    y_gra=(-2.*x+dice)/sums\n",
    "    return x_gra,y_gra\n",
    "def check_gradient(f, x0,y0,epsilon):\n",
    "    \n",
    "    y_gra=(f(x0,y0+epsilon) - f(x0,y0-epsilon))/2/epsilon\n",
    "    return x_gra,y_gra\n",
    "\n"
   ]
  },
  {
   "cell_type": "code",
   "execution_count": null,
   "metadata": {},
   "outputs": [],
   "source": [
    "#梯度检查\n",
    "import numpy as np\n",
    "import torch as t\n",
    "def t_dice(tx,ty):\n",
    "    andN = 2 * (t.sum((tx * ty),axis=1))\n",
    "    orU1 = t.sum(tx ,axis=1)\n",
    "    orU2 = t.sum(ty ,axis=1)\n",
    "    dices =  andN / (orU1 + orU2 )\n",
    "    losses = 1 - dices\n",
    "    return losses.mean()\n",
    "def numpy_dice(tx,ty):\n",
    "    andN=2*np.sum(tx*ty,axis=1)\n",
    "    orU1=np.sum(tx,axis=1)\n",
    "    orU2=np.sum(ty,axis=1)\n",
    "    dices =  andN / (orU1 + orU2 )\n",
    "    losses = 1 - dices\n",
    "    return losses.mean()"
   ]
  },
  {
   "cell_type": "code",
   "execution_count": 1,
   "metadata": {},
   "outputs": [
    {
     "ename": "NameError",
     "evalue": "name 'np' is not defined",
     "output_type": "error",
     "traceback": [
      "\u001b[0;31m---------------------------------------------------------------------------\u001b[0m",
      "\u001b[0;31mNameError\u001b[0m                                 Traceback (most recent call last)",
      "\u001b[0;32m<ipython-input-1-e8503fac1d03>\u001b[0m in \u001b[0;36m<module>\u001b[0;34m()\u001b[0m\n\u001b[0;32m----> 1\u001b[0;31m \u001b[0mtx\u001b[0m\u001b[0;34m=\u001b[0m\u001b[0mnp\u001b[0m\u001b[0;34m.\u001b[0m\u001b[0mrandom\u001b[0m\u001b[0;34m.\u001b[0m\u001b[0mrand_sample\u001b[0m\u001b[0;34m(\u001b[0m\u001b[0;36m16\u001b[0m\u001b[0;34m,\u001b[0m\u001b[0;36m6\u001b[0m\u001b[0;34m)\u001b[0m\u001b[0;34m\u001b[0m\u001b[0m\n\u001b[0m",
      "\u001b[0;31mNameError\u001b[0m: name 'np' is not defined"
     ]
    }
   ],
   "source": [
    "tx=np.random.rand_sample(16,6)\n",
    "ty=np.random.rand_sample(16,6)"
   ]
  },
  {
   "cell_type": "code",
   "execution_count": 41,
   "metadata": {},
   "outputs": [],
   "source": [
    "f=dice\n",
    "x0=tx.data.numpy()\n",
    "y0=ty.data.numpy()\n",
    "epsilon=eps.numpy()"
   ]
  },
  {
   "cell_type": "code",
   "execution_count": 42,
   "metadata": {},
   "outputs": [],
   "source": [
    "x_gra=(f(x0+epsilon,y0) - f(x0-epsilon,y0))"
   ]
  },
  {
   "cell_type": "code",
   "execution_count": 45,
   "metadata": {},
   "outputs": [
    {
     "data": {
      "text/plain": [
       "(0.36794207755484021, 0.36794216284545167)"
      ]
     },
     "execution_count": 45,
     "metadata": {},
     "output_type": "execute_result"
    }
   ],
   "source": [
    "f(x0+epsilon,y0), f(x0-epsilon,y0)"
   ]
  },
  {
   "cell_type": "code",
   "execution_count": 43,
   "metadata": {},
   "outputs": [
    {
     "data": {
      "text/plain": [
       "-8.5290611462340848e-08"
      ]
     },
     "execution_count": 43,
     "metadata": {},
     "output_type": "execute_result"
    }
   ],
   "source": [
    "x_gra"
   ]
  },
  {
   "cell_type": "code",
   "execution_count": 46,
   "metadata": {},
   "outputs": [],
   "source": [
    "eps=0.0000001*t.Tensor([[1,0,0]]).t().contiguous()"
   ]
  },
  {
   "cell_type": "code",
   "execution_count": 47,
   "metadata": {},
   "outputs": [
    {
     "name": "stderr",
     "output_type": "stream",
     "text": [
      "/usr/local/lib/python2.7/dist-packages/ipykernel_launcher.py:24: RuntimeWarning: divide by zero encountered in divide\n",
      "/usr/local/lib/python2.7/dist-packages/ipykernel_launcher.py:25: RuntimeWarning: divide by zero encountered in divide\n"
     ]
    },
    {
     "data": {
      "text/plain": [
       "(array([[ 0.07652896],\n",
       "        [        inf],\n",
       "        [        inf]], dtype=float32), array([[ 0.36628449],\n",
       "        [        inf],\n",
       "        [        inf]], dtype=float32))"
      ]
     },
     "execution_count": 47,
     "metadata": {},
     "output_type": "execute_result"
    }
   ],
   "source": [
    "check_gradient(dice,tx.data.numpy(),ty.data.numpy(),eps.numpy())"
   ]
  },
  {
   "cell_type": "code",
   "execution_count": 33,
   "metadata": {},
   "outputs": [],
   "source": [
    "x = t.Tensor(3,1).uniform_() \n",
    "x\n",
    "y=t.Tensor([[1,1,0]]).t().contiguous()"
   ]
  },
  {
   "cell_type": "code",
   "execution_count": 34,
   "metadata": {},
   "outputs": [
    {
     "data": {
      "text/plain": [
       "(Variable containing:\n",
       " -0.3325\n",
       " -0.3325\n",
       "  0.1536\n",
       " [torch.FloatTensor of size 3x1], Variable containing:\n",
       " -0.0059\n",
       " -0.3189\n",
       " -0.2421\n",
       " [torch.FloatTensor of size 3x1])"
      ]
     },
     "execution_count": 34,
     "metadata": {},
     "output_type": "execute_result"
    }
   ],
   "source": [
    "tx=t.autograd.Variable((x),requires_grad=True)\n",
    "ty=t.autograd.Variable((y),requires_grad=True)\n",
    "loss = t_dece(tx,ty)\n",
    "loss.backward()\n",
    "tx.grad,ty.grad"
   ]
  },
  {
   "cell_type": "code",
   "execution_count": 35,
   "metadata": {},
   "outputs": [
    {
     "data": {
      "text/plain": [
       "0.36794219345703916"
      ]
     },
     "execution_count": 35,
     "metadata": {},
     "output_type": "execute_result"
    }
   ],
   "source": [
    "dice(tx.data.numpy(),ty.data.numpy())"
   ]
  },
  {
   "cell_type": "code",
   "execution_count": 36,
   "metadata": {},
   "outputs": [
    {
     "data": {
      "text/plain": [
       "Variable containing:\n",
       " 0.3679\n",
       "[torch.FloatTensor of size 1]"
      ]
     },
     "execution_count": 36,
     "metadata": {},
     "output_type": "execute_result"
    }
   ],
   "source": [
    "loss"
   ]
  },
  {
   "cell_type": "code",
   "execution_count": 37,
   "metadata": {},
   "outputs": [
    {
     "data": {
      "text/plain": [
       "(array([[-0.33249822],\n",
       "        [-0.33249822],\n",
       "        [ 0.15363082]], dtype=float32), array([[-0.00587533],\n",
       "        [-0.31892082],\n",
       "        [-0.24205311]], dtype=float32))"
      ]
     },
     "execution_count": 37,
     "metadata": {},
     "output_type": "execute_result"
    }
   ],
   "source": [
    "dice_prime(tx.data.numpy(),ty.data.numpy())"
   ]
  },
  {
   "cell_type": "code",
   "execution_count": null,
   "metadata": {},
   "outputs": [],
   "source": [
    "self.sum=bottom[0].data.sum()+bottom[1].data.sum()+1.\n",
    "self.dice=(2.* (bottom[0].data * bottom [1].data).sum()+1.)/self.sum\n",
    "        top[0].data[...] = 1.- self.dice\n",
    "        \n",
    "        bottom[0].diff[...] = (-2.*self.diff+self.dice)/self.sum"
   ]
  },
  {
   "cell_type": "code",
   "execution_count": 1,
   "metadata": {},
   "outputs": [],
   "source": [
    "%matplotlib inline"
   ]
  },
  {
   "cell_type": "code",
   "execution_count": 2,
   "metadata": {},
   "outputs": [],
   "source": [
    "import numpy as np\n",
    "import matplotlib.pyplot as plt\n"
   ]
  },
  {
   "cell_type": "code",
   "execution_count": 43,
   "metadata": {},
   "outputs": [
    {
     "name": "stdout",
     "output_type": "stream",
     "text": [
      "(325, 512, 512)\n"
     ]
    }
   ],
   "source": [
    "probs=np.load(\"LKDS-00004_probs.npy\")\n",
    "print probs.shape"
   ]
  },
  {
   "cell_type": "code",
   "execution_count": 62,
   "metadata": {},
   "outputs": [
    {
     "name": "stdout",
     "output_type": "stream",
     "text": [
      "[]\n"
     ]
    },
    {
     "data": {
      "text/plain": [
       "<matplotlib.image.AxesImage at 0x7f0e0fdd6b90>"
      ]
     },
     "execution_count": 62,
     "metadata": {},
     "output_type": "execute_result"
    },
    {
     "data": {
      "image/png": "[encoded data removed]",
      "text/plain": [
       "<matplotlib.figure.Figure at 0x7f0e0fe5fad0>"
      ]
     },
     "metadata": {},
     "output_type": "display_data"
    }
   ],
   "source": [
    "print np.where(probs==1)[0]\n",
    "plt.imshow(probs[140],cmap='gray')"
   ]
  },
  {
   "cell_type": "code",
   "execution_count": 35,
   "metadata": {},
   "outputs": [],
   "source": [
    "from data.util import load_ct\n",
    "image,origin,spa=load_ct(\"/home/x/data/datasets/tianchi/train/LKDS-00004.mhd\")"
   ]
  },
  {
   "cell_type": "code",
   "execution_count": 41,
   "metadata": {},
   "outputs": [
    {
     "data": {
      "text/plain": [
       "<matplotlib.image.AxesImage at 0x7f0e0ffb2c90>"
      ]
     },
     "execution_count": 41,
     "metadata": {},
     "output_type": "execute_result"
    },
    {
     "data": {
      "image/png": "[encoded data removed]",
      "text/plain": [
       "<matplotlib.figure.Figure at 0x7f0e1009db90>"
      ]
     },
     "metadata": {},
     "output_type": "display_data"
    }
   ],
   "source": [
    "plt.imshow(image[144,300:350,110:190],cmap='gray')"
   ]
  },
  {
   "cell_type": "code",
   "execution_count": 61,
   "metadata": {},
   "outputs": [
    {
     "data": {
      "text/plain": [
       "0.31823441"
      ]
     },
     "execution_count": 61,
     "metadata": {},
     "output_type": "execute_result"
    }
   ],
   "source": [
    "probs[140,325:328,140:160].max()"
   ]
  },
  {
   "cell_type": "code",
   "execution_count": 48,
   "metadata": {},
   "outputs": [
    {
     "data": {
      "text/plain": [
       "array([[[  1.32458217e-06,   8.57038231e-07,   1.01338082e-06, ...,\n",
       "           1.11204372e-06,   8.45222871e-07,   2.04394905e-06],\n",
       "        [  4.95372433e-07,   1.09796974e-06,   1.04932951e-06, ...,\n",
       "           1.23419215e-06,   1.14176487e-06,   1.69734153e-06],\n",
       "        [  1.49780215e-06,   1.51994357e-06,   1.73428657e-06, ...,\n",
       "           1.86574073e-06,   3.74025973e-07,   2.33323226e-06],\n",
       "        ..., \n",
       "        [  3.88743899e-07,   1.10578071e-06,   2.34186075e-07, ...,\n",
       "           1.28466274e-06,   7.26825078e-07,   1.00583986e-06],\n",
       "        [  5.44768341e-07,   7.01666522e-07,   1.80418306e-06, ...,\n",
       "           1.25404358e-06,   1.09454845e-06,   9.49453920e-07],\n",
       "        [  8.10764277e-07,   1.83759971e-06,   3.51295569e-07, ...,\n",
       "           6.99604129e-07,   9.25472534e-07,   1.32513617e-06]],\n",
       "\n",
       "       [[  1.50299661e-06,   1.19780498e-06,   5.97580595e-07, ...,\n",
       "           4.18002855e-07,   1.34710774e-07,   5.73894852e-07],\n",
       "        [  7.34482569e-07,   4.44967827e-06,   1.46227683e-06, ...,\n",
       "           6.65257346e-07,   2.56342673e-07,   1.12661269e-06],\n",
       "        [  9.73742544e-07,   9.17573971e-07,   3.39684959e-07, ...,\n",
       "           7.53796598e-07,   7.91408539e-08,   1.03017294e-06],\n",
       "        ..., \n",
       "        [  1.56370845e-07,   1.40836460e-06,   3.03028173e-07, ...,\n",
       "           1.17539628e-06,   3.61982757e-07,   1.13290753e-06],\n",
       "        [  4.47435355e-07,   8.13476845e-07,   4.13638730e-07, ...,\n",
       "           3.85622116e-06,   6.61141883e-07,   4.84628436e-06],\n",
       "        [  3.13581552e-07,   1.98939233e-06,   1.62546598e-07, ...,\n",
       "           1.28741431e-06,   5.49659887e-07,   6.34225728e-07]],\n",
       "\n",
       "       [[  1.33893855e-06,   9.59971430e-07,   1.02842182e-06, ...,\n",
       "           1.47913897e-06,   1.10055805e-06,   8.59843055e-07],\n",
       "        [  4.28288843e-07,   1.99901069e-06,   1.43890611e-06, ...,\n",
       "           4.61564287e-06,   9.45863917e-07,   2.24322207e-06],\n",
       "        [  1.40714019e-06,   2.02665865e-06,   1.88298873e-06, ...,\n",
       "           1.89559239e-06,   9.18262685e-07,   1.94406061e-06],\n",
       "        ..., \n",
       "        [  4.16175681e-07,   8.07119932e-07,   4.87605234e-07, ...,\n",
       "           5.24050847e-06,   1.42038186e-06,   5.50621417e-06],\n",
       "        [  7.37330481e-07,   7.30999204e-07,   1.54585632e-06, ...,\n",
       "           1.34802917e-06,   8.89673061e-07,   1.04819947e-06],\n",
       "        [  9.23004393e-07,   1.71747570e-06,   5.93162270e-07, ...,\n",
       "           4.45227897e-07,   1.34816014e-06,   1.51122504e-06]],\n",
       "\n",
       "       ..., \n",
       "       [[  7.60200635e-07,   6.74104740e-07,   1.50119536e-06, ...,\n",
       "           6.64163906e-07,   2.41469661e-06,   6.31524131e-07],\n",
       "        [  2.98183608e-07,   9.75583362e-07,   3.10334769e-07, ...,\n",
       "           5.42187308e-07,   1.71846193e-06,   8.03427440e-07],\n",
       "        [  1.09119605e-06,   1.47616413e-06,   8.48224659e-07, ...,\n",
       "           4.58372512e-07,   3.34442859e-07,   1.28722502e-06],\n",
       "        ..., \n",
       "        [  2.92622985e-07,   3.86130807e-07,   2.45615979e-06, ...,\n",
       "           1.92850530e-06,   3.07621099e-06,   7.11571261e-07],\n",
       "        [  2.30306046e-06,   4.09478889e-06,   5.42006637e-06, ...,\n",
       "           1.42192300e-06,   1.60038576e-06,   1.70930377e-06],\n",
       "        [  1.05539493e-06,   1.31695754e-06,   8.59714419e-07, ...,\n",
       "           5.21844186e-07,   1.44498290e-06,   6.09154426e-07]],\n",
       "\n",
       "       [[  1.24612279e-06,   4.30597794e-07,   2.14291094e-06, ...,\n",
       "           2.26600292e-07,   4.03860270e-07,   7.73543093e-07],\n",
       "        [  3.46763159e-07,   5.90428158e-07,   3.95702671e-07, ...,\n",
       "           1.68106624e-07,   1.41249870e-07,   7.44953923e-07],\n",
       "        [  2.31727631e-06,   5.69408030e-07,   1.14393288e-06, ...,\n",
       "           1.39954707e-07,   4.10933580e-07,   4.82219548e-07],\n",
       "        ..., \n",
       "        [  6.39950031e-08,   1.58751573e-06,   1.10833116e-06, ...,\n",
       "           9.07547587e-07,   1.05786546e-06,   9.15909624e-08],\n",
       "        [  6.20347862e-07,   8.83931705e-07,   1.07462586e-06, ...,\n",
       "           5.06194453e-07,   9.12861196e-07,   8.55468230e-08],\n",
       "        [  1.68893166e-06,   1.70119642e-06,   1.49573714e-06, ...,\n",
       "           3.81240682e-07,   1.22791937e-06,   2.43547134e-07]],\n",
       "\n",
       "       [[  4.46807803e-07,   1.19130641e-06,   4.41146824e-07, ...,\n",
       "           3.95495135e-07,   2.27291778e-07,   1.08107758e-06],\n",
       "        [  8.49272283e-07,   2.60265870e-06,   1.38055611e-06, ...,\n",
       "           4.91422952e-07,   6.19673060e-08,   5.82635039e-07],\n",
       "        [  1.04460798e-06,   2.46916352e-06,   1.18920923e-06, ...,\n",
       "           3.53376151e-07,   1.99738224e-07,   1.57368822e-06],\n",
       "        ..., \n",
       "        [  8.27561735e-07,   1.08894506e-06,   1.47504397e-06, ...,\n",
       "           1.75802836e-06,   4.48745959e-06,   3.05229179e-07],\n",
       "        [  4.88584283e-06,   2.31625313e-06,   2.98965574e-06, ...,\n",
       "           5.93041079e-07,   2.61011360e-06,   4.07098568e-08],\n",
       "        [  5.79400762e-07,   1.65592189e-06,   1.19174319e-06, ...,\n",
       "           1.46180150e-06,   9.85074280e-07,   4.45040882e-07]]], dtype=float32)"
      ]
     },
     "execution_count": 48,
     "metadata": {},
     "output_type": "execute_result"
    }
   ],
   "source": [
    "probs[125:157,307:339,137:169]"
   ]
  },
  {
   "cell_type": "code",
   "execution_count": 27,
   "metadata": {},
   "outputs": [
    {
     "data": {
      "text/plain": [
       "<matplotlib.image.AxesImage at 0x7f0e11cc3310>"
      ]
     },
     "execution_count": 27,
     "metadata": {},
     "output_type": "execute_result"
    },
    {
     "data": {
      "image/png": "[encoded data removed]",
      "text/plain": [
       "<matplotlib.figure.Figure at 0x7f0e11d2a790>"
      ]
     },
     "metadata": {},
     "output_type": "display_data"
    }
   ],
   "source": [
    "plt.imshow(probs.sum(axis=0),cmap='gray')"
   ]
  },
  {
   "cell_type": "code",
   "execution_count": null,
   "metadata": {},
   "outputs": [],
   "source": []
  },
  {
   "cell_type": "code",
   "execution_count": 6,
   "metadata": {},
   "outputs": [
    {
     "name": "stderr",
     "output_type": "stream",
     "text": [
      "/usr/local/lib/python2.7/dist-packages/matplotlib/__init__.py:1401: UserWarning:  This call to matplotlib.use() has no effect\n",
      "because the backend has already been chosen;\n",
      "matplotlib.use() must be called *before* pylab, matplotlib.pyplot,\n",
      "or matplotlib.backends is imported for the first time.\n",
      "\n",
      "  warnings.warn(_use_error_msg)\n"
     ]
    }
   ],
   "source": [
    "from data.util import select,voxel_2_world,world_2_voxel,load_ct_info"
   ]
  },
  {
   "cell_type": "code",
   "execution_count": 28,
   "metadata": {},
   "outputs": [
    {
     "name": "stdout",
     "output_type": "stream",
     "text": [
      "      seriesuid     coordX      coordY      coordZ  diameter_mm\n",
      "304  LKDS-00004 -68.270833  209.412809  167.229885     22.51748\n"
     ]
    }
   ],
   "source": [
    "file_name=\"LKDS-00004\"\n",
    "reals=select(file_name)\n",
    "print reals"
   ]
  },
  {
   "cell_type": "code",
   "execution_count": 29,
   "metadata": {},
   "outputs": [
    {
     "name": "stdout",
     "output_type": "stream",
     "text": [
      "[array([ -68.27083333,  209.41280896,  167.22988506])]\n",
      "[[ 154.66661272  323.89519614  144.22988506]]\n"
     ]
    }
   ],
   "source": [
    "arr=[]\n",
    "for index,row in reals.iterrows():\n",
    "    arr.append(np.array([row[\"coordX\"],row[\"coordY\"],row[\"coordZ\"]]))\n",
    "print arr\n",
    "print world_2_voxel(arr,file_name)"
   ]
  },
  {
   "cell_type": "code",
   "execution_count": 42,
   "metadata": {},
   "outputs": [
    {
     "name": "stdout",
     "output_type": "stream",
     "text": [
      "[-174.  -12.   23.] [ 0.68359399  0.68359399  1.        ]\n"
     ]
    },
    {
     "data": {
      "text/plain": [
       "array([ 32.93984497,  32.93984497,  22.51748   ])"
      ]
     },
     "execution_count": 42,
     "metadata": {},
     "output_type": "execute_result"
    }
   ],
   "source": [
    "size,origin,spacing=load_ct_info(\"/home/x/data/datasets/tianchi/train/\"+file_name+\".mhd\")\n",
    "print origin[::-1],spacing[::-1]#Z,Y,X\n",
    "22.51748/np.array(spacing[::-1])"
   ]
  },
  {
   "cell_type": "code",
   "execution_count": 31,
   "metadata": {},
   "outputs": [
    {
     "data": {
      "text/plain": [
       "array([[ 154.66661272,  323.89519614,  144.22988506]])"
      ]
     },
     "execution_count": 31,
     "metadata": {},
     "output_type": "execute_result"
    }
   ],
   "source": [
    "(np.array(arr)-origin[::-1])/spacing[::-1]"
   ]
  },
  {
   "cell_type": "code",
   "execution_count": 13,
   "metadata": {},
   "outputs": [],
   "source": [
    "from skimage import color, data, measure, morphology, segmentation"
   ]
  },
  {
   "cell_type": "code",
   "execution_count": 14,
   "metadata": {},
   "outputs": [],
   "source": [
    "labels = measure.label(probs,connectivity=2)\n",
    "regions = measure.regionprops(labels)\n",
    "centers = []\n",
    "crops = []\n",
    "bboxes = []\n",
    "spans=[]\n",
    "for prop in regions:\n",
    "    B = prop.bbox\n",
    "    if B[3]-B[0]>2 and B[4]-B[1]>4 and B[5]-B[2]>4:\n",
    "        z=int((B[3]+B[0])/2.0)\n",
    "        y=int((B[4]+B[1])/2.0)\n",
    "        x=int((B[5]+B[2])/2.0)\n",
    "        span=np.array([int(B[3]-B[0]),int(B[4]-B[1]),int(B[5]-B[2])])\n",
    "        spans.append(span)\n",
    "        centers.append(np.array([z,y,x]))\n",
    "        bboxes.append(B)"
   ]
  },
  {
   "cell_type": "code",
   "execution_count": 15,
   "metadata": {},
   "outputs": [
    {
     "data": {
      "text/plain": [
       "[array([ 32, 485, 369]),\n",
       " array([ 36, 497, 222]),\n",
       " array([ 34, 487, 348]),\n",
       " array([ 37, 490, 277]),\n",
       " array([ 49, 361, 289]),\n",
       " array([127, 421,  62]),\n",
       " array([165, 499, 261]),\n",
       " array([171, 425,  85]),\n",
       " array([202, 501, 256]),\n",
       " array([217, 347, 213])]"
      ]
     },
     "execution_count": 15,
     "metadata": {},
     "output_type": "execute_result"
    }
   ],
   "source": [
    "centers"
   ]
  },
  {
   "cell_type": "code",
   "execution_count": 125,
   "metadata": {},
   "outputs": [
    {
     "data": {
      "text/html": [
       "<div>\n",
       "<table border=\"1\" class=\"dataframe\">\n",
       "  <thead>\n",
       "    <tr style=\"text-align: right;\">\n",
       "      <th></th>\n",
       "      <th>seriesuid</th>\n",
       "      <th>coordX</th>\n",
       "      <th>coordY</th>\n",
       "      <th>coordZ</th>\n",
       "      <th>diameter_mm</th>\n",
       "    </tr>\n",
       "  </thead>\n",
       "  <tbody>\n",
       "    <tr>\n",
       "      <th>628</th>\n",
       "      <td>LKDS-00052</td>\n",
       "      <td>29.438147</td>\n",
       "      <td>63.496942</td>\n",
       "      <td>-196.670914</td>\n",
       "      <td>5.209168</td>\n",
       "    </tr>\n",
       "    <tr>\n",
       "      <th>629</th>\n",
       "      <td>LKDS-00052</td>\n",
       "      <td>-100.509793</td>\n",
       "      <td>29.321020</td>\n",
       "      <td>-97.178042</td>\n",
       "      <td>5.062185</td>\n",
       "    </tr>\n",
       "    <tr>\n",
       "      <th>630</th>\n",
       "      <td>LKDS-00052</td>\n",
       "      <td>-119.283954</td>\n",
       "      <td>-23.223688</td>\n",
       "      <td>-110.817716</td>\n",
       "      <td>8.679782</td>\n",
       "    </tr>\n",
       "    <tr>\n",
       "      <th>631</th>\n",
       "      <td>LKDS-00052</td>\n",
       "      <td>-89.668593</td>\n",
       "      <td>34.299059</td>\n",
       "      <td>-128.560248</td>\n",
       "      <td>23.483745</td>\n",
       "    </tr>\n",
       "    <tr>\n",
       "      <th>632</th>\n",
       "      <td>LKDS-00052</td>\n",
       "      <td>-75.732970</td>\n",
       "      <td>35.285004</td>\n",
       "      <td>-185.380144</td>\n",
       "      <td>4.181188</td>\n",
       "    </tr>\n",
       "    <tr>\n",
       "      <th>633</th>\n",
       "      <td>LKDS-00052</td>\n",
       "      <td>-126.162566</td>\n",
       "      <td>-0.397681</td>\n",
       "      <td>-213.322709</td>\n",
       "      <td>4.762203</td>\n",
       "    </tr>\n",
       "  </tbody>\n",
       "</table>\n",
       "</div>"
      ],
      "text/plain": [
       "      seriesuid      coordX     coordY      coordZ  diameter_mm\n",
       "628  LKDS-00052   29.438147  63.496942 -196.670914     5.209168\n",
       "629  LKDS-00052 -100.509793  29.321020  -97.178042     5.062185\n",
       "630  LKDS-00052 -119.283954 -23.223688 -110.817716     8.679782\n",
       "631  LKDS-00052  -89.668593  34.299059 -128.560248    23.483745\n",
       "632  LKDS-00052  -75.732970  35.285004 -185.380144     4.181188\n",
       "633  LKDS-00052 -126.162566  -0.397681 -213.322709     4.762203"
      ]
     },
     "execution_count": 125,
     "metadata": {},
     "output_type": "execute_result"
    }
   ],
   "source": [
    "import pandas as pd\n",
    "pdd=pd.read_csv(\"/home/x/dcsb/Tianchi_pytorch/csv/annotations.csv\")\n",
    "pdd[pdd['seriesuid']==file_name]"
   ]
  }
 ],
 "metadata": {
  "kernelspec": {
   "display_name": "Python 2",
   "language": "python",
   "name": "python2"
  },
  "language_info": {
   "codemirror_mode": {
    "name": "ipython",
    "version": 2
   },
   "file_extension": ".py",
   "mimetype": "text/x-python",
   "name": "python",
   "nbconvert_exporter": "python",
   "pygments_lexer": "ipython2",
   "version": "2.7.12"
  }
 },
 "nbformat": 4,
 "nbformat_minor": 2
}
